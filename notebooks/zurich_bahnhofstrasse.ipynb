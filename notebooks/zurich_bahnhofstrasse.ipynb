{
 "cells": [
  {
   "cell_type": "markdown",
   "id": "851fe55c-5aed-48f6-915f-c100adead4c4",
   "metadata": {},
   "source": [
    "# 🚶‍♂️ Pedestrian Traffic Prediction on Bahnhofstrasse (Zurich)\n",
    "\n",
    "This project uses hourly foot traffic data from Zurich’s Bahnhofstrasse to explore pedestrian behavior and build a model to predict foot traffic patterns based on time, weather, and location.\n",
    "\n",
    "📍 Dataset: [Opendata Zurich – Passantenfrequenzen](https://opendata.swiss/en/dataset/passantenfrequenzen-an-der-bahnhofstrasse-stundenwerte)  \n",
    "🎯 Goal: Predict hourly pedestrian counts  \n",
    "🔧 Tools: Python, Pandas, Seaborn, scikit-learn, Random Forest  \n",
    "📈 Bonus: Add lag features and log-transformed targets for smarter prediction"
   ]
  },
  {
   "cell_type": "markdown",
   "id": "da8320f2-ff7d-4cd9-85b9-15c57d5f49fa",
   "metadata": {},
   "source": [
    "## 📥 Load Dataset and Check Basic Info\n",
    "\n",
    "We load the CSV file manually downloaded from opendata.swiss and perform basic inspection of the data structure."
   ]
  },
  {
   "cell_type": "code",
   "execution_count": null,
   "id": "86544513-51cc-44c0-972c-bd8b5d93c29d",
   "metadata": {},
   "outputs": [],
   "source": [
    "import pandas as pd\n",
    "\n",
    "# Load your CSV (adjust path if needed)\n",
    "data = pd.read_csv(\"data/foot_traffic.csv\")\n",
    "\n",
    "# Check structure\n",
    "print(data.shape)\n",
    "data.head()"
   ]
  },
  {
   "cell_type": "markdown",
   "id": "6fcb86cf-4b86-411e-8bc6-c428680d44d1",
   "metadata": {},
   "source": [
    "## 🧹 Clean the Data\n",
    "\n",
    "We keep only entries from Bahnhofstrasse (excluding Lintheschergasse) and remove unused or incomplete columns such as `collection_type` and `zone_99`. We also remove rows with no recorded pedestrian activity."
   ]
  },
  {
   "cell_type": "code",
   "execution_count": null,
   "id": "9678b556-dbff-4875-aa4e-c49cd334f45d",
   "metadata": {},
   "outputs": [],
   "source": [
    "# Keep only Bahnhofstrasse locations\n",
    "bahnhof_data = data[data['location_name'].str.contains('Bahnhofstrasse')].copy()\n",
    "\n",
    "# Drop zone_99 and collection_type\n",
    "zone_99_cols = [col for col in bahnhof_data.columns if col.startswith('zone_99')]\n",
    "bahnhof_data.drop(columns=['collection_type'] + zone_99_cols, inplace=True)\n",
    "\n",
    "# Drop rows where all counts are 0 (invalid sensor readings)\n",
    "bahnhof_data = bahnhof_data[bahnhof_data['pedestrians_count'] > 0]\n",
    "\n",
    "# Reset index for safety\n",
    "bahnhof_data.reset_index(drop=True, inplace=True)\n",
    "\n",
    "# Check result\n",
    "print(\"Cleaned shape:\", bahnhof_data.shape)\n",
    "bahnhof_data.head()"
   ]
  },
  {
   "cell_type": "markdown",
   "id": "c60b0269-1fb9-4efc-b3cb-f96e93fe0381",
   "metadata": {},
   "source": [
    "## 📆 Time-Based Feature Engineering\n",
    "\n",
    "We extract features such as hour of day, day of week, weekend flag, month, and year from the timestamp. These help the model learn time-dependent patterns in foot traffic."
   ]
  },
  {
   "cell_type": "code",
   "execution_count": null,
   "id": "bc64dd94-d72d-46bb-b7bf-47e465d8aaf3",
   "metadata": {},
   "outputs": [],
   "source": [
    "# Convert timestamp to datetime\n",
    "bahnhof_data['timestamp'] = pd.to_datetime(bahnhof_data['timestamp'])\n",
    "\n",
    "# Extract time-based features\n",
    "bahnhof_data['hour'] = bahnhof_data['timestamp'].dt.hour\n",
    "bahnhof_data['weekday'] = bahnhof_data['timestamp'].dt.weekday  # 0 = Monday\n",
    "bahnhof_data['is_weekend'] = bahnhof_data['weekday'].apply(lambda x: 1 if x >= 5 else 0)\n",
    "bahnhof_data['month'] = bahnhof_data['timestamp'].dt.month\n",
    "bahnhof_data['year'] = bahnhof_data['timestamp'].dt.year\n",
    "\n",
    "# Preview\n",
    "bahnhof_data[['timestamp', 'hour', 'weekday', 'is_weekend', 'month', 'year']].head()"
   ]
  },
  {
   "cell_type": "markdown",
   "id": "1396823f-6428-40ea-b5f9-0df8835beecb",
   "metadata": {},
   "source": [
    "## 🔁 Add Lag Features and Encode Categorical Data\n",
    "\n",
    "To give the model context from previous time points, we add lag features: previous hour’s count and same hour from the previous day.  \n",
    "We also convert categorical columns like `weather_condition` and `location_name` into numerical format using one-hot encoding."
   ]
  },
  {
   "cell_type": "code",
   "execution_count": null,
   "id": "0116a0dd-3faf-4a28-b0fd-128e19239e73",
   "metadata": {},
   "outputs": [],
   "source": [
    "# Sort by time to ensure lags are meaningful\n",
    "bahnhof_data = bahnhof_data.sort_values('timestamp')\n",
    "\n",
    "# Add lag features\n",
    "bahnhof_data['prev_hour_count'] = bahnhof_data['pedestrians_count'].shift(1)\n",
    "bahnhof_data['prev_day_same_hour'] = bahnhof_data['pedestrians_count'].shift(24)\n",
    "\n",
    "# Drop rows with NaN values caused by shifting\n",
    "bahnhof_data.dropna(subset=['prev_hour_count', 'prev_day_same_hour'], inplace=True)\n",
    "\n",
    "# One-hot encode categorical features\n",
    "data_model = pd.get_dummies(bahnhof_data, columns=['weather_condition', 'location_name'])\n",
    "\n",
    "# Preview\n",
    "data_model[['pedestrians_count', 'prev_hour_count', 'prev_day_same_hour']].head()"
   ]
  },
  {
   "cell_type": "markdown",
   "id": "3f3b704a-e3c7-4095-8b0e-8222332b77e1",
   "metadata": {},
   "source": [
    "## 🤖 Model: Predict Pedestrian Count (with Log Target)\n",
    "\n",
    "We use a Random Forest Regressor to predict foot traffic.  \n",
    "The target variable is log-transformed to reduce the impact of extreme spikes.  \n",
    "We also include lag features and encoded weather/location data."
   ]
  },
  {
   "cell_type": "code",
   "execution_count": null,
   "id": "4715a7c8-50e6-4a92-b502-fdf7fd973ba1",
   "metadata": {},
   "outputs": [],
   "source": [
    "from sklearn.model_selection import train_test_split\n",
    "from sklearn.ensemble import RandomForestRegressor\n",
    "from sklearn.metrics import mean_absolute_error\n",
    "import numpy as np\n",
    "\n",
    "# Define input features\n",
    "features = [\n",
    "    'hour', 'weekday', 'is_weekend', 'month', 'temperature',\n",
    "    'prev_hour_count', 'prev_day_same_hour'\n",
    "] + [col for col in data_model.columns if col.startswith('weather_condition_')] \\\n",
    "  + [col for col in data_model.columns if col.startswith('location_name_')]\n",
    "\n",
    "# Prepare inputs and log-transformed target\n",
    "X = data_model[features]\n",
    "y = np.log1p(data_model['pedestrians_count'])\n",
    "\n",
    "# Train/test split\n",
    "X_train, X_test, y_train, y_test = train_test_split(X, y, test_size=0.2, random_state=42)\n",
    "\n",
    "# Train model\n",
    "model = RandomForestRegressor(n_estimators=100, random_state=42)\n",
    "model.fit(X_train, y_train)\n",
    "\n",
    "# Predict and revert log\n",
    "y_pred_log = model.predict(X_test)\n",
    "y_pred = np.expm1(y_pred_log)\n",
    "y_test_actual = np.expm1(y_test)\n",
    "\n",
    "# Evaluate\n",
    "mae = mean_absolute_error(y_test_actual, y_pred)\n",
    "print(f\"Mean Absolute Error: {mae:.2f}\")"
   ]
  },
  {
   "cell_type": "markdown",
   "id": "6e868c1d-76cf-4015-b339-14af67710b95",
   "metadata": {},
   "source": [
    "## 📉 Prediction Results: Actual vs Predicted\n",
    "\n",
    "We group the predictions into bins based on actual pedestrian counts  \n",
    "and plot the average predicted value per bin.  \n",
    "The closer the line is to the 45° reference line, the better the model’s accuracy."
   ]
  },
  {
   "cell_type": "code",
   "execution_count": null,
   "id": "55cb0917-bc2f-4798-a26b-bdeff1a610af",
   "metadata": {},
   "outputs": [],
   "source": [
    "import matplotlib.pyplot as plt\n",
    "import seaborn as sns\n",
    "import pandas as pd\n",
    "\n",
    "# Build DataFrame for comparison\n",
    "results_df = pd.DataFrame({\n",
    "    'actual': y_test_actual,\n",
    "    'predicted': y_pred\n",
    "})\n",
    "\n",
    "# Bin actual values into ranges\n",
    "results_df['bin'] = pd.cut(results_df['actual'], bins=10)\n",
    "binned = results_df.groupby('bin').mean()\n",
    "\n",
    "# Plot\n",
    "plt.figure(figsize=(8, 5))\n",
    "sns.lineplot(x=binned['actual'], y=binned['predicted'], marker='o', label='Model')\n",
    "plt.plot(binned['actual'], binned['actual'], linestyle='--', color='gray', label='Perfect prediction (y = x)')\n",
    "plt.title(\"Binned Actual vs Predicted Pedestrian Counts\")\n",
    "plt.xlabel(\"Average Actual Count (per bin)\")\n",
    "plt.ylabel(\"Average Predicted Count\")\n",
    "plt.legend()\n",
    "plt.grid(True)\n",
    "plt.tight_layout()\n",
    "plt.show()"
   ]
  },
  {
   "cell_type": "markdown",
   "id": "c2f35a3d-8499-4df9-8261-6e056a326dc8",
   "metadata": {},
   "source": [
    "## 🧠 Final Results and Key Takeaways\n",
    "\n",
    "✅ **Model**: Random Forest Regressor  \n",
    "✅ **Features used**: time (hour, weekday, month), location, weather, and lagged traffic  \n",
    "✅ **Target**: pedestrian count (log-transformed for better peak handling)\n",
    "\n",
    "📉 **MAE** (Mean Absolute Error): ~175  \n",
    "📈 **Prediction accuracy**: close to real values across most traffic levels  \n",
    "🔥 Big improvement compared to earlier MAE of ~408 (without lag & log)\n",
    "\n",
    "---\n",
    "\n",
    "### Next Steps / Ideas for Future Work\n",
    "\n",
    "- Add support for holiday/event detection (e.g., public holidays, parades)\n",
    "- Try time series models like Prophet or XGBoost\n",
    "- Build a Streamlit app to visualize and explore predictions interactively\n",
    "- Generate automated daily forecasts or GenAI summaries\n",
    "\n",
    "---\n",
    "\n",
    "👉 This project shows how public open data can be turned into business insight using classic ML workflows.  \n",
    "Great for urban planning, retail footfall forecasting, or smart city applications."
   ]
  },
  {
   "cell_type": "code",
   "execution_count": null,
   "id": "4efd026d-a7a1-47df-9985-714a79af8819",
   "metadata": {},
   "outputs": [],
   "source": []
  }
 ],
 "metadata": {
  "kernelspec": {
   "display_name": "Python 3 (ipykernel)",
   "language": "python",
   "name": "python3"
  },
  "language_info": {
   "codemirror_mode": {
    "name": "ipython",
    "version": 3
   },
   "file_extension": ".py",
   "mimetype": "text/x-python",
   "name": "python",
   "nbconvert_exporter": "python",
   "pygments_lexer": "ipython3",
   "version": "3.13.2"
  }
 },
 "nbformat": 4,
 "nbformat_minor": 5
}
